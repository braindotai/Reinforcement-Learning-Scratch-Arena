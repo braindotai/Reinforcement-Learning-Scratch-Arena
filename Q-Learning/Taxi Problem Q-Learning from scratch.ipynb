{
  "nbformat": 4,
  "nbformat_minor": 0,
  "metadata": {
    "colab": {
      "name": "Q-Learning from Scratch - Numpy.ipynb",
      "version": "0.3.2",
      "provenance": [],
      "collapsed_sections": []
    },
    "kernelspec": {
      "name": "python3",
      "display_name": "Python 3"
    },
    "accelerator": "GPU"
  },
  "cells": [
    {
      "cell_type": "code",
      "metadata": {
        "id": "t4x6PtGqP6oV",
        "colab_type": "code",
        "outputId": "4b2dbef1-58f5-47f9-bc25-b27ea67988d6",
        "colab": {
          "base_uri": "https://localhost:8080/",
          "height": 289
        }
      },
      "source": [
        "!pip install cmake 'gym[atari]' scipy"
      ],
      "execution_count": 0,
      "outputs": [
        {
          "output_type": "stream",
          "text": [
            "Requirement already satisfied: cmake in /usr/local/lib/python3.6/dist-packages (3.12.0)\n",
            "Requirement already satisfied: gym[atari] in /usr/local/lib/python3.6/dist-packages (0.10.11)\n",
            "Requirement already satisfied: scipy in /usr/local/lib/python3.6/dist-packages (1.3.1)\n",
            "Requirement already satisfied: six in /usr/local/lib/python3.6/dist-packages (from gym[atari]) (1.12.0)\n",
            "Requirement already satisfied: pyglet>=1.2.0 in /usr/local/lib/python3.6/dist-packages (from gym[atari]) (1.4.1)\n",
            "Requirement already satisfied: numpy>=1.10.4 in /usr/local/lib/python3.6/dist-packages (from gym[atari]) (1.16.4)\n",
            "Requirement already satisfied: requests>=2.0 in /usr/local/lib/python3.6/dist-packages (from gym[atari]) (2.21.0)\n",
            "Requirement already satisfied: atari-py>=0.1.4; extra == \"atari\" in /usr/local/lib/python3.6/dist-packages (from gym[atari]) (0.1.15)\n",
            "Requirement already satisfied: PyOpenGL; extra == \"atari\" in /usr/local/lib/python3.6/dist-packages (from gym[atari]) (3.1.0)\n",
            "Requirement already satisfied: Pillow; extra == \"atari\" in /usr/local/lib/python3.6/dist-packages (from gym[atari]) (4.3.0)\n",
            "Requirement already satisfied: future in /usr/local/lib/python3.6/dist-packages (from pyglet>=1.2.0->gym[atari]) (0.16.0)\n",
            "Requirement already satisfied: chardet<3.1.0,>=3.0.2 in /usr/local/lib/python3.6/dist-packages (from requests>=2.0->gym[atari]) (3.0.4)\n",
            "Requirement already satisfied: urllib3<1.25,>=1.21.1 in /usr/local/lib/python3.6/dist-packages (from requests>=2.0->gym[atari]) (1.24.3)\n",
            "Requirement already satisfied: idna<2.9,>=2.5 in /usr/local/lib/python3.6/dist-packages (from requests>=2.0->gym[atari]) (2.8)\n",
            "Requirement already satisfied: certifi>=2017.4.17 in /usr/local/lib/python3.6/dist-packages (from requests>=2.0->gym[atari]) (2019.6.16)\n",
            "Requirement already satisfied: olefile in /usr/local/lib/python3.6/dist-packages (from Pillow; extra == \"atari\"->gym[atari]) (0.46)\n"
          ],
          "name": "stdout"
        }
      ]
    },
    {
      "cell_type": "markdown",
      "metadata": {
        "id": "BauBLcz8TVVM",
        "colab_type": "text"
      },
      "source": [
        "#Initializing our environment"
      ]
    },
    {
      "cell_type": "code",
      "metadata": {
        "id": "dpNlgnPDSLFy",
        "colab_type": "code",
        "outputId": "d8344433-bc99-460f-8521-3b591e960d74",
        "colab": {
          "base_uri": "https://localhost:8080/",
          "height": 153
        }
      },
      "source": [
        "import gym\n",
        "\n",
        "env = gym.make(\"Taxi-v2\").env\n",
        "env.render() # doing a quick render"
      ],
      "execution_count": 0,
      "outputs": [
        {
          "output_type": "stream",
          "text": [
            "+---------+\n",
            "|R: | : :G|\n",
            "| : : : : |\n",
            "| : : : : |\n",
            "|\u001b[43m \u001b[0m| : | : |\n",
            "|\u001b[34;1mY\u001b[0m| : |\u001b[35mB\u001b[0m: |\n",
            "+---------+\n",
            "\n"
          ],
          "name": "stdout"
        }
      ]
    },
    {
      "cell_type": "code",
      "metadata": {
        "id": "3mubavG7gk7O",
        "colab_type": "code",
        "outputId": "1ee06685-9061-4612-a13f-4e17a426d4ba",
        "colab": {
          "base_uri": "https://localhost:8080/",
          "height": 1000
        }
      },
      "source": [
        "help(env)"
      ],
      "execution_count": 0,
      "outputs": [
        {
          "output_type": "stream",
          "text": [
            "Help on TaxiEnv in module gym.envs.toy_text.taxi object:\n",
            "\n",
            "class TaxiEnv(gym.envs.toy_text.discrete.DiscreteEnv)\n",
            " |  The Taxi Problem\n",
            " |  from \"Hierarchical Reinforcement Learning with the MAXQ Value Function Decomposition\"\n",
            " |  by Tom Dietterich\n",
            " |  \n",
            " |  Description:\n",
            " |  There are four designated locations in the grid world indicated by R(ed), B(lue), G(reen), and Y(ellow). When the episode starts, the taxi starts off at a random square and the passenger is at a random location. The taxi drive to the passenger's location, pick up the passenger, drive to the passenger's destination (another one of the four specified locations), and then drop off the passenger. Once the passenger is dropped off, the episode ends.\n",
            " |  \n",
            " |  Observations: \n",
            " |  There are 500 discrete states since there are 25 taxi positions, 5 possible locations of the passenger (including the case when the passenger is the taxi), and 4 destination locations. \n",
            " |  \n",
            " |  Actions: \n",
            " |  There are 6 discrete deterministic actions:\n",
            " |  - 0: move south\n",
            " |  - 1: move north\n",
            " |  - 2: move east \n",
            " |  - 3: move west \n",
            " |  - 4: pickup passenger\n",
            " |  - 5: dropoff passenger\n",
            " |  \n",
            " |  Rewards: \n",
            " |  There is a reward of -1 for each action and an additional reward of +20 for delievering the passenger. There is a reward of -10 for executing actions \"pickup\" and \"dropoff\" illegally.\n",
            " |  \n",
            " |  \n",
            " |  Rendering:\n",
            " |  - blue: passenger\n",
            " |  - magenta: destination\n",
            " |  - yellow: empty taxi\n",
            " |  - green: full taxi\n",
            " |  - other letters: locations\n",
            " |  \n",
            " |  Method resolution order:\n",
            " |      TaxiEnv\n",
            " |      gym.envs.toy_text.discrete.DiscreteEnv\n",
            " |      gym.core.Env\n",
            " |      builtins.object\n",
            " |  \n",
            " |  Methods defined here:\n",
            " |  \n",
            " |  __init__(self)\n",
            " |      Initialize self.  See help(type(self)) for accurate signature.\n",
            " |  \n",
            " |  decode(self, i)\n",
            " |  \n",
            " |  encode(self, taxirow, taxicol, passloc, destidx)\n",
            " |  \n",
            " |  render(self, mode='human')\n",
            " |      Renders the environment.\n",
            " |      \n",
            " |      The set of supported modes varies per environment. (And some\n",
            " |      environments do not support rendering at all.) By convention,\n",
            " |      if mode is:\n",
            " |      \n",
            " |      - human: render to the current display or terminal and\n",
            " |        return nothing. Usually for human consumption.\n",
            " |      - rgb_array: Return an numpy.ndarray with shape (x, y, 3),\n",
            " |        representing RGB values for an x-by-y pixel image, suitable\n",
            " |        for turning into a video.\n",
            " |      - ansi: Return a string (str) or StringIO.StringIO containing a\n",
            " |        terminal-style text representation. The text can include newlines\n",
            " |        and ANSI escape sequences (e.g. for colors).\n",
            " |      \n",
            " |      Note:\n",
            " |          Make sure that your class's metadata 'render.modes' key includes\n",
            " |            the list of supported modes. It's recommended to call super()\n",
            " |            in implementations to use the functionality of this method.\n",
            " |      \n",
            " |      Args:\n",
            " |          mode (str): the mode to render with\n",
            " |          close (bool): close all open renderings\n",
            " |      \n",
            " |      Example:\n",
            " |      \n",
            " |      class MyEnv(Env):\n",
            " |          metadata = {'render.modes': ['human', 'rgb_array']}\n",
            " |      \n",
            " |          def render(self, mode='human'):\n",
            " |              if mode == 'rgb_array':\n",
            " |                  return np.array(...) # return RGB frame suitable for video\n",
            " |              elif mode is 'human':\n",
            " |                  ... # pop up a window and render\n",
            " |              else:\n",
            " |                  super(MyEnv, self).render(mode=mode) # just raise an exception\n",
            " |  \n",
            " |  ----------------------------------------------------------------------\n",
            " |  Data and other attributes defined here:\n",
            " |  \n",
            " |  metadata = {'render.modes': ['human', 'ansi']}\n",
            " |  \n",
            " |  ----------------------------------------------------------------------\n",
            " |  Methods inherited from gym.envs.toy_text.discrete.DiscreteEnv:\n",
            " |  \n",
            " |  reset(self)\n",
            " |      Resets the state of the environment and returns an initial observation.\n",
            " |      \n",
            " |      Returns: observation (object): the initial observation of the\n",
            " |          space.\n",
            " |  \n",
            " |  seed(self, seed=None)\n",
            " |      Sets the seed for this env's random number generator(s).\n",
            " |      \n",
            " |      Note:\n",
            " |          Some environments use multiple pseudorandom number generators.\n",
            " |          We want to capture all such seeds used in order to ensure that\n",
            " |          there aren't accidental correlations between multiple generators.\n",
            " |      \n",
            " |      Returns:\n",
            " |          list<bigint>: Returns the list of seeds used in this env's random\n",
            " |            number generators. The first value in the list should be the\n",
            " |            \"main\" seed, or the value which a reproducer should pass to\n",
            " |            'seed'. Often, the main seed equals the provided 'seed', but\n",
            " |            this won't be true if seed=None, for example.\n",
            " |  \n",
            " |  step(self, a)\n",
            " |      Run one timestep of the environment's dynamics. When end of\n",
            " |      episode is reached, you are responsible for calling `reset()`\n",
            " |      to reset this environment's state.\n",
            " |      \n",
            " |      Accepts an action and returns a tuple (observation, reward, done, info).\n",
            " |      \n",
            " |      Args:\n",
            " |          action (object): an action provided by the environment\n",
            " |      \n",
            " |      Returns:\n",
            " |          observation (object): agent's observation of the current environment\n",
            " |          reward (float) : amount of reward returned after previous action\n",
            " |          done (boolean): whether the episode has ended, in which case further step() calls will return undefined results\n",
            " |          info (dict): contains auxiliary diagnostic information (helpful for debugging, and sometimes learning)\n",
            " |  \n",
            " |  ----------------------------------------------------------------------\n",
            " |  Methods inherited from gym.core.Env:\n",
            " |  \n",
            " |  __str__(self)\n",
            " |      Return str(self).\n",
            " |  \n",
            " |  close(self)\n",
            " |      Override _close in your subclass to perform any necessary cleanup.\n",
            " |      \n",
            " |      Environments will automatically close() themselves when\n",
            " |      garbage collected or when the program exits.\n",
            " |  \n",
            " |  ----------------------------------------------------------------------\n",
            " |  Data descriptors inherited from gym.core.Env:\n",
            " |  \n",
            " |  __dict__\n",
            " |      dictionary for instance variables (if defined)\n",
            " |  \n",
            " |  __weakref__\n",
            " |      list of weak references to the object (if defined)\n",
            " |  \n",
            " |  unwrapped\n",
            " |      Completely unwrap this env.\n",
            " |      \n",
            " |      Returns:\n",
            " |          gym.Env: The base non-wrapped gym.Env instance\n",
            " |  \n",
            " |  ----------------------------------------------------------------------\n",
            " |  Data and other attributes inherited from gym.core.Env:\n",
            " |  \n",
            " |  action_space = None\n",
            " |  \n",
            " |  observation_space = None\n",
            " |  \n",
            " |  reward_range = (-inf, inf)\n",
            " |  \n",
            " |  spec = None\n",
            "\n"
          ],
          "name": "stdout"
        }
      ]
    },
    {
      "cell_type": "markdown",
      "metadata": {
        "id": "tjdJmiRdTZWP",
        "colab_type": "text"
      },
      "source": [
        "#Here's how we reset our environment randomly and render it"
      ]
    },
    {
      "cell_type": "code",
      "metadata": {
        "id": "TRUhheGpSLH4",
        "colab_type": "code",
        "outputId": "049ea7a7-12d4-4ff1-98a8-64c2e3e0f605",
        "colab": {
          "base_uri": "https://localhost:8080/",
          "height": 153
        }
      },
      "source": [
        "env.reset()\n",
        "env.render()"
      ],
      "execution_count": 0,
      "outputs": [
        {
          "output_type": "stream",
          "text": [
            "+---------+\n",
            "|\u001b[34;1mR\u001b[0m: | : :G|\n",
            "| : : : :\u001b[43m \u001b[0m|\n",
            "| : : : : |\n",
            "| | : | : |\n",
            "|\u001b[35mY\u001b[0m| : |B: |\n",
            "+---------+\n",
            "\n"
          ],
          "name": "stdout"
        }
      ]
    },
    {
      "cell_type": "markdown",
      "metadata": {
        "id": "NSeK1YvATg3H",
        "colab_type": "text"
      },
      "source": [
        "- __env.action_space__ returns total number of decisions we can make in order to take an action in our environment\n",
        "- __env.observation_space__ return total number of possible states"
      ]
    },
    {
      "cell_type": "code",
      "metadata": {
        "id": "Y_CKH3W8SLJx",
        "colab_type": "code",
        "outputId": "6ed663d3-20a0-46a3-f3ed-3f2501fbcab7",
        "colab": {
          "base_uri": "https://localhost:8080/",
          "height": 51
        }
      },
      "source": [
        "print(f\"Action Space: {env.action_space}\")\n",
        "print(f\"State Space: {env.observation_space}\")"
      ],
      "execution_count": 0,
      "outputs": [
        {
          "output_type": "stream",
          "text": [
            "Action Space: Discrete(6)\n",
            "State Space: Discrete(500)\n"
          ],
          "name": "stdout"
        }
      ]
    },
    {
      "cell_type": "markdown",
      "metadata": {
        "id": "0V_S5FpvUALn",
        "colab_type": "text"
      },
      "source": [
        "#Here's how we can take an action and render the envirenment"
      ]
    },
    {
      "cell_type": "code",
      "metadata": {
        "id": "S6iT70n9SLLw",
        "colab_type": "code",
        "outputId": "2d2dd79f-4e4e-44fc-e2f9-0801608e7a58",
        "colab": {
          "base_uri": "https://localhost:8080/",
          "height": 170
        }
      },
      "source": [
        "state = env.encode(3, 1, 2, 0) # (taxi row, taxi column, passenger index, destination index)\n",
        "print(\"State:\", state)\n",
        "env.s = state\n",
        "env.render()"
      ],
      "execution_count": 0,
      "outputs": [
        {
          "output_type": "stream",
          "text": [
            "State: 328\n",
            "+---------+\n",
            "|\u001b[35mR\u001b[0m: | : :G|\n",
            "| : : : : |\n",
            "| : : : : |\n",
            "| |\u001b[43m \u001b[0m: | : |\n",
            "|\u001b[34;1mY\u001b[0m| : |B: |\n",
            "+---------+\n",
            "\n"
          ],
          "name": "stdout"
        }
      ]
    },
    {
      "cell_type": "markdown",
      "metadata": {
        "id": "HRLvwbQvU8LW",
        "colab_type": "text"
      },
      "source": [
        "#Below is our reward table for given state\n",
        "Structure is for {action: (probability, nextstate, reward, done)}\n",
        "- (probability, nextstate, reward, done) provides information about what would happen in the future state if we take this action.\n",
        "- probability is always 1.\n",
        "- The nextstate is the state we would be in if we take this action.\n",
        "- All the movement actions have a -1 reward and the pickup/dropoff actions have -10 reward in this particular state.\n",
        "- The reward for right action is +20 at the dropoff action.\n",
        "- Each successfull dropoff is the end of an episode"
      ]
    },
    {
      "cell_type": "code",
      "metadata": {
        "id": "QL7T-FImSLNp",
        "colab_type": "code",
        "outputId": "7c7871ab-78c3-483a-bc49-328076ce0b8a",
        "colab": {
          "base_uri": "https://localhost:8080/",
          "height": 119
        }
      },
      "source": [
        "env.P[state]"
      ],
      "execution_count": 0,
      "outputs": [
        {
          "output_type": "execute_result",
          "data": {
            "text/plain": [
              "{0: [(1.0, 428, -1, False)],\n",
              " 1: [(1.0, 228, -1, False)],\n",
              " 2: [(1.0, 348, -1, False)],\n",
              " 3: [(1.0, 328, -1, False)],\n",
              " 4: [(1.0, 328, -10, False)],\n",
              " 5: [(1.0, 328, -10, False)]}"
            ]
          },
          "metadata": {
            "tags": []
          },
          "execution_count": 7
        }
      ]
    },
    {
      "cell_type": "markdown",
      "metadata": {
        "id": "d2SmA2BYnYYS",
        "colab_type": "text"
      },
      "source": [
        "Here's how we can take a random action"
      ]
    },
    {
      "cell_type": "code",
      "metadata": {
        "id": "Hnz62x9tfQzy",
        "colab_type": "code",
        "outputId": "7d9437a9-0d9c-474d-cb06-7f3a892b8ac9",
        "colab": {
          "base_uri": "https://localhost:8080/",
          "height": 34
        }
      },
      "source": [
        "env.action_space.sample()"
      ],
      "execution_count": 0,
      "outputs": [
        {
          "output_type": "execute_result",
          "data": {
            "text/plain": [
              "4"
            ]
          },
          "metadata": {
            "tags": []
          },
          "execution_count": 8
        }
      ]
    },
    {
      "cell_type": "markdown",
      "metadata": {
        "id": "aTIlac9fncoG",
        "colab_type": "text"
      },
      "source": [
        "#Taking random actions to reach destination"
      ]
    },
    {
      "cell_type": "code",
      "metadata": {
        "id": "xx4Emk2FSLPp",
        "colab_type": "code",
        "outputId": "3d99a36d-b301-418c-d6c1-5f48fe2d191e",
        "colab": {
          "base_uri": "https://localhost:8080/",
          "height": 51
        }
      },
      "source": [
        "env.s = 328\n",
        "epochs = 0\n",
        "penalties, reward = 0, 0\n",
        "\n",
        "frames = [] # for animation\n",
        "done = False\n",
        "while not done:\n",
        "    action = env.action_space.sample()\n",
        "    state, reward, done, info = env.step(action)\n",
        "\n",
        "    if reward == -10:\n",
        "        penalties += 1\n",
        "    \n",
        "    # Put each rendered frame into dict for animation\n",
        "    frames.append({\n",
        "        'frame': env.render(mode='ansi'),\n",
        "        'state': state,\n",
        "        'action': action,\n",
        "        'reward': reward\n",
        "        }\n",
        "    )\n",
        "\n",
        "    epochs += 1\n",
        "    \n",
        "    \n",
        "print(\"Timesteps taken: {}\".format(epochs))\n",
        "print(\"Penalties incurred: {}\".format(penalties))"
      ],
      "execution_count": 0,
      "outputs": [
        {
          "output_type": "stream",
          "text": [
            "Timesteps taken: 255\n",
            "Penalties incurred: 57\n"
          ],
          "name": "stdout"
        }
      ]
    },
    {
      "cell_type": "code",
      "metadata": {
        "id": "S8EDZ4n3SLRa",
        "colab_type": "code",
        "outputId": "e45071e4-a672-4dad-b84c-adbf3b0f0ac4",
        "colab": {
          "base_uri": "https://localhost:8080/",
          "height": 238
        }
      },
      "source": [
        "from IPython.display import clear_output\n",
        "from time import sleep\n",
        "\n",
        "def print_frames(frames, pause = 0.1):\n",
        "    for i, frame in enumerate(frames):\n",
        "        clear_output(wait=True)\n",
        "        print(frame['frame'].getvalue())\n",
        "        print(f\"Timestep: {i + 1}\")\n",
        "        print(f\"State: {frame['state']}\")\n",
        "        print(f\"Action: {frame['action']}\")\n",
        "        print(f\"Reward: {frame['reward']}\")\n",
        "        sleep(pause)\n",
        "        \n",
        "print_frames(frames)"
      ],
      "execution_count": 0,
      "outputs": [
        {
          "output_type": "stream",
          "text": [
            "+---------+\n",
            "|\u001b[35m\u001b[34;1m\u001b[43mR\u001b[0m\u001b[0m\u001b[0m: | : :G|\n",
            "| : : : : |\n",
            "| : : : : |\n",
            "| | : | : |\n",
            "|Y| : |B: |\n",
            "+---------+\n",
            "  (Dropoff)\n",
            "\n",
            "Timestep: 255\n",
            "State: 0\n",
            "Action: 5\n",
            "Reward: 20\n"
          ],
          "name": "stdout"
        }
      ]
    },
    {
      "cell_type": "markdown",
      "metadata": {
        "id": "HSh4IZPHnlZf",
        "colab_type": "text"
      },
      "source": [
        "So as we can see in above cell that choosing actions randomly is taking forever, so this method would'd work (obviously) ."
      ]
    },
    {
      "cell_type": "markdown",
      "metadata": {
        "id": "Peg2xiPinxhF",
        "colab_type": "text"
      },
      "source": [
        "#Time to use Q-Learning"
      ]
    },
    {
      "cell_type": "markdown",
      "metadata": {
        "id": "skUVrxuVn64F",
        "colab_type": "text"
      },
      "source": [
        "##Initializing our Q table"
      ]
    },
    {
      "cell_type": "code",
      "metadata": {
        "id": "6N5y6etjSLTW",
        "colab_type": "code",
        "outputId": "213725f0-74c7-4ac8-bd24-2ccd551467de",
        "colab": {
          "base_uri": "https://localhost:8080/",
          "height": 204
        }
      },
      "source": [
        "import numpy as np\n",
        "\n",
        "print(f'Observation space: {env.observation_space.n}')\n",
        "print(f'Action space: {env.action_space.n}')\n",
        " \n",
        "q_table = np.zeros([env.observation_space.n, env.action_space.n])\n",
        "print(f'\\nq_table shape:', q_table.shape)\n",
        "print(q_table)"
      ],
      "execution_count": 0,
      "outputs": [
        {
          "output_type": "stream",
          "text": [
            "Observation space: 500\n",
            "Action space: 6\n",
            "\n",
            "q_table shape: (500, 6)\n",
            "[[0. 0. 0. 0. 0. 0.]\n",
            " [0. 0. 0. 0. 0. 0.]\n",
            " [0. 0. 0. 0. 0. 0.]\n",
            " ...\n",
            " [0. 0. 0. 0. 0. 0.]\n",
            " [0. 0. 0. 0. 0. 0.]\n",
            " [0. 0. 0. 0. 0. 0.]]\n"
          ],
          "name": "stdout"
        }
      ]
    },
    {
      "cell_type": "markdown",
      "metadata": {
        "id": "HeTaq167qitk",
        "colab_type": "text"
      },
      "source": [
        "##Training the Q-Table"
      ]
    },
    {
      "cell_type": "code",
      "metadata": {
        "id": "zblS2UGuSLVD",
        "colab_type": "code",
        "outputId": "602a858d-b577-43e6-9acb-6c7e44693a56",
        "colab": {
          "base_uri": "https://localhost:8080/",
          "height": 34
        }
      },
      "source": [
        "import matplotlib.pyplot as plt\n",
        "import random\n",
        "\n",
        "alpha = 0.75\n",
        "gamma = 0.5\n",
        "epsilon = 0.1\n",
        "penalties = []\n",
        "rewards = []\n",
        "\n",
        "for i in range(100000):\n",
        "    state = env.reset()\n",
        "\n",
        "    epochs, penalty, reward, = 0, 0, 0\n",
        "    done = False\n",
        "    \n",
        "    cum_reward = []\n",
        "        \n",
        "    while not done:\n",
        "        if random.uniform(0, 1) < epsilon:\n",
        "            action = env.action_space.sample() # Selecting random action for some exploration\n",
        "        else:\n",
        "            action = np.argmax(q_table[state]) # Selecting action from the Q table\n",
        "\n",
        "        next_state, reward, done, info = env.step(action) \n",
        "        \n",
        "        old_value = q_table[state, action]\n",
        "        next_max = np.max(q_table[next_state])\n",
        "        \n",
        "        new_value = (1 - alpha) * old_value + alpha * (reward + gamma * next_max)\n",
        "        q_table[state, action] = new_value\n",
        "\n",
        "        if reward == -10:\n",
        "            penalty += 1\n",
        "\n",
        "        state = next_state\n",
        "        epochs += 1\n",
        "        \n",
        "        cum_reward.append(reward)\n",
        "        \n",
        "    if (i + 1) % 1000 == 0:\n",
        "        clear_output(wait = True)\n",
        "        print(f\"Episode: {i + 1}\")\n",
        "    \n",
        "    penalties.append(penalty / (len(penalties) + 1))\n",
        "    rewards.append(sum(cum_reward)/len(cum_reward)) # appending mean of rewards for every episode"
      ],
      "execution_count": 0,
      "outputs": [
        {
          "output_type": "stream",
          "text": [
            "Episode: 100000\n"
          ],
          "name": "stdout"
        }
      ]
    },
    {
      "cell_type": "markdown",
      "metadata": {
        "id": "IBi33zMrocU1",
        "colab_type": "text"
      },
      "source": [
        "##Lets see our Q-Table"
      ]
    },
    {
      "cell_type": "code",
      "metadata": {
        "id": "IHEs4Kc0bQSn",
        "colab_type": "code",
        "outputId": "51663378-ab24-406f-bc31-1bddb9cef671",
        "colab": {
          "base_uri": "https://localhost:8080/",
          "height": 238
        }
      },
      "source": [
        "q_table"
      ],
      "execution_count": 0,
      "outputs": [
        {
          "output_type": "execute_result",
          "data": {
            "text/plain": [
              "array([[  0.        ,   0.        ,   0.        ,   0.        ,\n",
              "          0.        ,   0.        ],\n",
              "       [ -1.95703125,  -1.9140625 ,  -1.95703125,  -1.9140625 ,\n",
              "         -1.828125  , -10.9140625 ],\n",
              "       [ -1.828125  ,  -1.65625   ,  -1.828125  ,  -1.65625   ,\n",
              "         -1.3125    , -10.65625   ],\n",
              "       ...,\n",
              "       [ -1.31438398,  -0.625     ,  -1.31417227,  -1.82375765,\n",
              "        -10.26855652, -10.31130552],\n",
              "       [ -1.95724297,  -1.92683784,  -1.95890029,  -1.9140625 ,\n",
              "        -10.90301514, -10.7409668 ],\n",
              "       [  3.5       ,   0.75      ,   3.5       ,   9.        ,\n",
              "         -5.5       ,  -5.5       ]])"
            ]
          },
          "metadata": {
            "tags": []
          },
          "execution_count": 13
        }
      ]
    },
    {
      "cell_type": "code",
      "metadata": {
        "id": "0Lj68ymBjjFK",
        "colab_type": "code",
        "outputId": "6356e27e-b1d4-466f-a6a6-ec0b2e761108",
        "colab": {
          "base_uri": "https://localhost:8080/",
          "height": 295
        }
      },
      "source": [
        "plt.plot(penalties[:50])\n",
        "plt.title('Penalties over training')\n",
        "plt.xlabel('Episode')\n",
        "plt.ylabel('Penalty')\n",
        "plt.show()"
      ],
      "execution_count": 0,
      "outputs": [
        {
          "output_type": "display_data",
          "data": {
            "image/png": "[encoded data removed]",
            "text/plain": [
              "<Figure size 432x288 with 1 Axes>"
            ]
          },
          "metadata": {
            "tags": []
          }
        }
      ]
    },
    {
      "cell_type": "code",
      "metadata": {
        "id": "9rdNalFrfBEA",
        "colab_type": "code",
        "outputId": "ced94ae6-2e5e-4295-ccb5-af11bb0feef5",
        "colab": {
          "base_uri": "https://localhost:8080/",
          "height": 295
        }
      },
      "source": [
        "plt.plot(rewards[:100])\n",
        "plt.title('Rewards over training')\n",
        "plt.xlabel('Episode')\n",
        "plt.ylabel('Reward')\n",
        "plt.show()"
      ],
      "execution_count": 0,
      "outputs": [
        {
          "output_type": "display_data",
          "data": {
            "image/png": "[encoded data removed]",
            "text/plain": [
              "<Figure size 432x288 with 1 Axes>"
            ]
          },
          "metadata": {
            "tags": []
          }
        }
      ]
    },
    {
      "cell_type": "markdown",
      "metadata": {
        "id": "x5F_Tx-tqCoL",
        "colab_type": "text"
      },
      "source": [
        "##Testing our trained Q-Table"
      ]
    },
    {
      "cell_type": "code",
      "metadata": {
        "id": "7OgwZh6WSLWx",
        "colab_type": "code",
        "outputId": "af444f53-8b96-4349-cad5-da4776914a25",
        "colab": {
          "base_uri": "https://localhost:8080/",
          "height": 51
        }
      },
      "source": [
        "env.s = 328\n",
        "epochs = 0\n",
        "penalties, reward = 0, 0\n",
        "\n",
        "frames = [] # for animation\n",
        "done = False\n",
        "\n",
        "env.reset()\n",
        "while not done:\n",
        "    action = np.argmax(q_table[state])\n",
        "    state, reward, done, info = env.step(action)\n",
        "\n",
        "    if reward == -10:\n",
        "        penalties += 1\n",
        "    \n",
        "    frames.append({\n",
        "        'frame': env.render(mode='ansi'),\n",
        "        'state': state,\n",
        "        'action': action,\n",
        "        'reward': reward\n",
        "        }\n",
        "    )\n",
        "\n",
        "    epochs += 1\n",
        "    \n",
        "    \n",
        "print(\"Timesteps taken: {}\".format(epochs))\n",
        "print(\"Penalties incurred: {}\".format(penalties))"
      ],
      "execution_count": 0,
      "outputs": [
        {
          "output_type": "stream",
          "text": [
            "Timesteps taken: 15\n",
            "Penalties incurred: 0\n"
          ],
          "name": "stdout"
        }
      ]
    },
    {
      "cell_type": "code",
      "metadata": {
        "id": "JbX_Hsv8SLYp",
        "colab_type": "code",
        "outputId": "02b3c97e-c4ed-4acc-937e-9dac6bbade35",
        "colab": {
          "base_uri": "https://localhost:8080/",
          "height": 238
        }
      },
      "source": [
        "print_frames(frames, 0.5)"
      ],
      "execution_count": 0,
      "outputs": [
        {
          "output_type": "stream",
          "text": [
            "+---------+\n",
            "|R: | : :G|\n",
            "| : : : : |\n",
            "| : : : : |\n",
            "| | : | : |\n",
            "|\u001b[35m\u001b[34;1m\u001b[43mY\u001b[0m\u001b[0m\u001b[0m| : |B: |\n",
            "+---------+\n",
            "  (Dropoff)\n",
            "\n",
            "Timestep: 15\n",
            "State: 410\n",
            "Action: 5\n",
            "Reward: 20\n"
          ],
          "name": "stdout"
        }
      ]
    }
  ]
}